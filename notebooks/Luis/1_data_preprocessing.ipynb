{
 "cells": [
  {
   "cell_type": "markdown",
   "id": "83d80ab4",
   "metadata": {},
   "source": [
    "# Notebook 1: 1_data_preprocessing.ipynb\n",
    "Goal: Load, preprocess, and visualize the image dataset.\n",
    "\n",
    "Sections:\n",
    "\n",
    "Data Loading\n",
    "- Load the dataset (e.g., from folders or URLs)\n",
    "- Split into train/validation/test sets\n",
    "\n",
    "Preprocessing\n",
    "- Resize images, normalize pixel values, and apply augmentations (flip, rotate, etc.)\n",
    "\n",
    "Visualization\n",
    "- Show sample images with labels using matplotlib"
   ]
  },
  {
   "cell_type": "code",
   "execution_count": 3,
   "id": "b625811d",
   "metadata": {},
   "outputs": [
    {
     "name": "stdout",
     "output_type": "stream",
     "text": [
      "Using device: cuda\n"
     ]
    }
   ],
   "source": [
    "import os\n",
    "import torch\n",
    "import torchvision\n",
    "import torchvision.transforms as transforms\n",
    "import matplotlib.pyplot as plt\n",
    "import numpy as np\n",
    "from torchvision.datasets import ImageFolder\n",
    "from torch.utils.data import DataLoader, random_split\n",
    "\n",
    "# Check for GPU\n",
    "device = torch.device(\"cuda\" if torch.cuda.is_available() else \"cpu\")\n",
    "print(f\"Using device: {device}\")\n"
   ]
  },
  {
   "cell_type": "code",
   "execution_count": 4,
   "id": "c9621c16",
   "metadata": {},
   "outputs": [
    {
     "name": "stdout",
     "output_type": "stream",
     "text": [
      "Total images: 26179\n",
      "Training set: 20944\n",
      "Validation set: 5235\n"
     ]
    }
   ],
   "source": [
    "# Path to your dataset\n",
    "dataset_path = '../../data/animals10/'\n",
    "\n",
    "# Define transformations: Resize, Augment, Convert to Tensor, Normalize\n",
    "transform = transforms.Compose([\n",
    "    transforms.Resize((128, 128)),  # Resize to 128x128\n",
    "    transforms.RandomHorizontalFlip(),  # Data augmentation\n",
    "    transforms.ToTensor(),  # Convert PIL image to tensor\n",
    "    transforms.Normalize((0.5,), (0.5,))  # Normalize to [-1, 1]\n",
    "])\n",
    "\n",
    "# Load dataset\n",
    "dataset = ImageFolder(root=dataset_path, transform=transform)\n",
    "\n",
    "# Split dataset (80% training, 20% validation)\n",
    "val_size = int(0.2 * len(dataset))\n",
    "train_size = len(dataset) - val_size\n",
    "train_dataset, val_dataset = random_split(dataset, [train_size, val_size])\n",
    "\n",
    "# Wrap in DataLoader\n",
    "train_loader = DataLoader(train_dataset, batch_size=32, shuffle=True)\n",
    "val_loader = DataLoader(val_dataset, batch_size=32, shuffle=False)\n",
    "\n",
    "print(f\"Total images: {len(dataset)}\")\n",
    "print(f\"Training set: {len(train_dataset)}\")\n",
    "print(f\"Validation set: {len(val_dataset)}\")\n"
   ]
  }
 ],
 "metadata": {
  "kernelspec": {
   "display_name": ".venv",
   "language": "python",
   "name": "python3"
  },
  "language_info": {
   "codemirror_mode": {
    "name": "ipython",
    "version": 3
   },
   "file_extension": ".py",
   "mimetype": "text/x-python",
   "name": "python",
   "nbconvert_exporter": "python",
   "pygments_lexer": "ipython3",
   "version": "3.10.12"
  }
 },
 "nbformat": 4,
 "nbformat_minor": 5
}
